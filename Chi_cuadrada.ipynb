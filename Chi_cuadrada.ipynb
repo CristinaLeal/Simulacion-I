{
  "nbformat": 4,
  "nbformat_minor": 0,
  "metadata": {
    "colab": {
      "provenance": [],
      "authorship_tag": "ABX9TyNgdhPIag/AGGYXa9joWn0M",
      "include_colab_link": true
    },
    "kernelspec": {
      "name": "python3",
      "display_name": "Python 3"
    },
    "language_info": {
      "name": "python"
    }
  },
  "cells": [
    {
      "cell_type": "markdown",
      "metadata": {
        "id": "view-in-github",
        "colab_type": "text"
      },
      "source": [
        "<a href=\"https://colab.research.google.com/github/CristinaLeal/Simulacion-I/blob/main/Chi_cuadrada.ipynb\" target=\"_parent\"><img src=\"https://colab.research.google.com/assets/colab-badge.svg\" alt=\"Open In Colab\"/></a>"
      ]
    },
    {
      "cell_type": "code",
      "execution_count": 8,
      "metadata": {
        "colab": {
          "base_uri": "https://localhost:8080/",
          "height": 626
        },
        "id": "dVNyQPNBPys8",
        "outputId": "163a1fb8-b3d6-4b30-a6c6-e6174a0914c9"
      },
      "outputs": [
        {
          "output_type": "stream",
          "name": "stdout",
          "text": [
            "***Prueba Chi-cuadrada*** \n",
            " Las hipotesis\n",
            " Ho: NO tiene una distribución uniforme. \n",
            " Ha: SI tiene una distribución uniforme. \n",
            " Valor critico 118.5\n",
            "Solucion\n",
            "Valor *:  320.1\n",
            "La decision es:\n",
            "Rechazar Ho\n",
            "Coclusion: SI tiene distribucion uniforme\n"
          ]
        },
        {
          "output_type": "display_data",
          "data": {
            "text/plain": [
              "<Figure size 640x480 with 1 Axes>"
            ],
            "image/png": "[encoded data removed]"
          },
          "metadata": {}
        }
      ],
      "source": [
        "import math\n",
        "import matplotlib\n",
        "import matplotlib.pyplot as plt\n",
        "import numpy as np\n",
        "\n",
        "x=[0.78, 0.98, 0.24, 0.73, 0.43, 0.16, 0.78, 0.47, 0.18, 0.55]\n",
        "x.extend([0.04, 0.29, 0.68, 0.77, 0.16, 0.03, 0.79, 0.22, 0.37, 0.80])\n",
        "x.extend([0.96, 0.26, 0.91, 0.55, 0.75, 0.55, 0.64, 0.39, 0.53, 0.45])\n",
        "x.extend([0.61, 0.14, 0.38, 0.12, 0.40, 0.74, 0.78, 0.98, 0.27, 0.60])\n",
        "x.extend([0.43, 0.67, 0.62, 0.32, 0.53, 0.54, 0.24, 0.29, 0.18, 0.08])\n",
        "x.extend([0.82, 0.94, 0.19, 0.98, 0.41, 1.00, 0.74, 0.92, 0.14, 0.43])\n",
        "x.extend([0.83, 0.88, 0.18, 0.21, 0.50, 0.13, 0.43, 0.69, 0.08, 0.12])\n",
        "x.extend([0.22, 0.50, 0.16, 0.11, 0.18, 0.89, 0.80, 0.42, 0.29, 0.87])\n",
        "x.extend([0.83, 0.79, 0.65, 0.28, 0.78, 0.49, 0.36, 0.86, 0.87, 0.64])\n",
        "x.extend([0.51, 0.07, 0.18, 0.94, 0.50, 0.22, 0.66, 0.91, 0.48, 0.24])\n",
        "\n",
        "print(\"***Prueba Chi-cuadrada*** \")\n",
        "\n",
        "print(\" Las hipotesis\")\n",
        "print(\" Ho: NO tiene una distribución uniforme. \")\n",
        "print(\" Ha: SI tiene una distribución uniforme. \")\n",
        "\n",
        "print(\" Valor critico 118.5\")\n",
        "print(\"Solucion\")\n",
        "gl=118.5\n",
        "k=0\n",
        "x00=[]\n",
        "k0=0\n",
        "x02=[]\n",
        "k2=0\n",
        "x04=[]\n",
        "k4=0\n",
        "x06=[]\n",
        "k6=0\n",
        "x08=[]\n",
        "k8=0\n",
        "for i in x:\n",
        "  if i<=0.20 and i>0.00:\n",
        "    x00.append(i)\n",
        "    k0+=1\n",
        "  if i<=0.40 and i>0.20:\n",
        "    x02.append(i)\n",
        "    k2+=1\n",
        "  if i<=0.60 and i>0.40:\n",
        "    x04.append(i)\n",
        "    k4+=1\n",
        "  if i<=0.80 and i>0.60:\n",
        "    x06.append(i)\n",
        "    k6+=1\n",
        "  if i<=1.00 and i>0.80:\n",
        "    x08.append(i)\n",
        "    k8+=1\n",
        "  k+=1\n",
        "\n",
        "sum=(pow(k0-k, 2) + pow(k2-k, 2) + pow(k4-k, 2) + pow(k6-k, 2) + pow(k8-k, 2))/k\n",
        "print(\"Valor *: \", sum)\n",
        "print (\"La decision es:\")\n",
        "if sum<gl:\n",
        "  print(\"Se acepta Ho\")\n",
        "  print(\"Conclusion: NO tiene distribucion uniforme\")\n",
        "if sum>gl:\n",
        "  print(\"Rechazar Ho\")\n",
        "  print (\"Coclusion: SI tiene distribucion uniforme\")\n",
        "\n",
        "frec = [\"0.01-0.20\", \"0.21-0.40\", \"0.41-0.60\", \"0.61-0.80\", \"0.81-1.00\"]\n",
        "acum = [k0, k2, k4, k6, k8]\n",
        "fig, ax = plt.subplots()\n",
        "ax.set_ylabel('Frecuencia')\n",
        "ax.set_title('Distribucion')\n",
        "plt.bar(frec, acum)\n",
        "plt.savefig('grafica.png')\n",
        "plt.show()\n"
      ]
    }
  ]
}