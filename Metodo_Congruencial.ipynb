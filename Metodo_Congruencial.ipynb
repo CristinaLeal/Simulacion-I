{
  "nbformat": 4,
  "nbformat_minor": 0,
  "metadata": {
    "colab": {
      "provenance": [],
      "authorship_tag": "ABX9TyP4MDMM7J5FzEtvcmVZYWNf",
      "include_colab_link": true
    },
    "kernelspec": {
      "name": "python3",
      "display_name": "Python 3"
    },
    "language_info": {
      "name": "python"
    }
  },
  "cells": [
    {
      "cell_type": "markdown",
      "metadata": {
        "id": "view-in-github",
        "colab_type": "text"
      },
      "source": [
        "<a href=\"https://colab.research.google.com/github/CristinaLeal/Simulacion-I/blob/main/Metodo_Congruencial.ipynb\" target=\"_parent\"><img src=\"https://colab.research.google.com/assets/colab-badge.svg\" alt=\"Open In Colab\"/></a>"
      ]
    },
    {
      "cell_type": "code",
      "execution_count": 24,
      "metadata": {
        "colab": {
          "base_uri": "https://localhost:8080/"
        },
        "id": "EKeI3EYvUh4W",
        "outputId": "c3411c1f-b3b6-44ab-d5d2-f079eb963214"
      },
      "outputs": [
        {
          "output_type": "stream",
          "name": "stdout",
          "text": [
            "Generador Congruencial\n",
            "Xn+1=aXn+c  (mod % m), 0x0: \n",
            "Escribe el valor de a: 5\n",
            "Escribe el valor de c: 5\n",
            "Escribe el modulo m: 16\n",
            "Escribe el valor de X0, (debe ser menor al modulo): 6\n",
            "Escribe el numero de iteracones: 20\n",
            "Se necesitan 17 iteraciones\n",
            "[0.375, 0.187, 0.25, 0.562, 0.125, 0.937, 0.0, 0.312, 0.875, 0.687, 0.75, 0.062, 0.625, 0.437, 0.5, 0.812, 0.375, 0.187, 0.25, 0.562]\n"
          ]
        }
      ],
      "source": [
        "print(\"Generador Congruencial\")\n",
        "print(\"Xn+1=aXn+c  (mod % m), 0x0: \")\n",
        "a=int(input(\"Escribe el valor de a: \"))\n",
        "c=int(input(\"Escribe el valor de c: \"))\n",
        "m=int(input(\"Escribe el modulo m: \"))\n",
        "x0=int(input(\"Escribe el valor de X0, (debe ser menor al modulo): \"))\n",
        "it=int(input(\"Escribe el numero de iteracones: \"))\n",
        "l=0\n",
        "d=2\n",
        "xn=[]\n",
        "g=[]\n",
        "while it>0:\n",
        "  l1=(a*x0+c)%m\n",
        "  ln1=x0/16\n",
        "  ln1=ln1*1000\n",
        "  ln1=int(ln1)\n",
        "  ln1=ln1/1000\n",
        "  xn.append(ln1)\n",
        "  x0=l1\n",
        "  it-=1\n",
        "\n",
        "for i in xn:\n",
        "    for r in xn:\n",
        "      if r!=i:\n",
        "        d+=1\n",
        "      if i==r:\n",
        "        g.append(d)\n",
        "print(\"Se necesitan\", g[1], \"iteraciones\")\n",
        "print(xn)"
      ]
    }
  ]
}