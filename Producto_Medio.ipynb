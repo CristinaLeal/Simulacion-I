{
  "nbformat": 4,
  "nbformat_minor": 0,
  "metadata": {
    "colab": {
      "provenance": [],
      "toc_visible": true,
      "authorship_tag": "ABX9TyOVVi4K94dWX/9l90ZbRzeg",
      "include_colab_link": true
    },
    "kernelspec": {
      "name": "python3",
      "display_name": "Python 3"
    },
    "language_info": {
      "name": "python"
    }
  },
  "cells": [
    {
      "cell_type": "markdown",
      "metadata": {
        "id": "view-in-github",
        "colab_type": "text"
      },
      "source": [
        "<a href=\"https://colab.research.google.com/github/CristinaLeal/Simulacion-I/blob/main/Producto_Medio.ipynb\" target=\"_parent\"><img src=\"https://colab.research.google.com/assets/colab-badge.svg\" alt=\"Open In Colab\"/></a>"
      ]
    },
    {
      "cell_type": "code",
      "execution_count": 7,
      "metadata": {
        "colab": {
          "base_uri": "https://localhost:8080/"
        },
        "id": "3Y72ngTLpybN",
        "outputId": "fbce1d81-f18d-4113-958e-8f74e6b34209"
      },
      "outputs": [
        {
          "output_type": "stream",
          "name": "stdout",
          "text": [
            "Producto Medio \n",
            "Ingresa un numero de 3 dígitos: 126\n",
            "Ingresa otro numero de 3 dígitos: 145\n",
            "Cantidad de iteraciones que deseas realizar: 6\n",
            "+-------------+-----------------+------------------+------------+-----------------------+\n",
            "|   Iteración |   Primer numero |   Segundo numero |   Producto |   Dígitos de en medio |\n",
            "+=============+=================+==================+============+=======================+\n",
            "|           1 |             126 |              145 |      18270 |                   827 |\n",
            "+-------------+-----------------+------------------+------------+-----------------------+\n",
            "|           2 |             145 |              827 |     119915 |                   199 |\n",
            "+-------------+-----------------+------------------+------------+-----------------------+\n",
            "|           3 |             827 |              199 |     164573 |                   645 |\n",
            "+-------------+-----------------+------------------+------------+-----------------------+\n",
            "|           4 |             199 |              645 |     128355 |                   283 |\n",
            "+-------------+-----------------+------------------+------------+-----------------------+\n",
            "|           5 |             645 |              283 |     182535 |                   825 |\n",
            "+-------------+-----------------+------------------+------------+-----------------------+\n",
            "|           6 |             283 |              825 |     233475 |                   334 |\n",
            "+-------------+-----------------+------------------+------------+-----------------------+\n"
          ]
        }
      ],
      "source": [
        "from tabulate import tabulate\n",
        "print(\"Producto Medio \")\n",
        "while True:\n",
        "    num= input(\"Ingresa un numero de 3 dígitos: \")\n",
        "    if num.isdigit() and len(num) == 3:\n",
        "        num = int(num)\n",
        "        break\n",
        "    else:\n",
        "        print(\"Numero erroneo. Ingresa un numero que contenga 3 digitos \")\n",
        "while True:\n",
        "    num2 = input(\"Ingresa otro numero de 3 dígitos: \")\n",
        "    if num2.isdigit() and len(num2) == 3:\n",
        "        num2 = int(num2)\n",
        "        break\n",
        "    else:\n",
        "        print(\"Numero erroneo. Ingresa un numero que contenga 3 digitos\")\n",
        "it = int(input(\"Cantidad de iteraciones que deseas realizar: \"))\n",
        "re = []\n",
        "for i in range(it):\n",
        "    num3 = num * num2\n",
        "\n",
        "    rest = str(num3)\n",
        "    resl = len(rest)\n",
        "    if resl % 2 == 0:\n",
        "        rest = '0' + rest\n",
        "        resl += 1\n",
        "\n",
        "    inicio = (resl - 3) // 2\n",
        "    final = inicio + 3\n",
        "    medio = rest[inicio:final]\n",
        "\n",
        "    re.append((i + 1, num, num2, num3, medio))\n",
        "\n",
        "    num = num2\n",
        "    num2 = int(medio)\n",
        "\n",
        "headers = [\"Iteración\", \"Primer numero\", \"Segundo numero\", \"Producto\", \"Dígitos de en medio\"]\n",
        "print(tabulate(re, headers=headers, tablefmt=\"grid\"))"
      ]
    }
  ]
}