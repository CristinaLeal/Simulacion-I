{
  "nbformat": 4,
  "nbformat_minor": 0,
  "metadata": {
    "colab": {
      "provenance": [],
      "authorship_tag": "ABX9TyMT6I2qItw/NbZBZJHbGGb4",
      "include_colab_link": true
    },
    "kernelspec": {
      "name": "python3",
      "display_name": "Python 3"
    },
    "language_info": {
      "name": "python"
    }
  },
  "cells": [
    {
      "cell_type": "markdown",
      "metadata": {
        "id": "view-in-github",
        "colab_type": "text"
      },
      "source": [
        "<a href=\"https://colab.research.google.com/github/CristinaLeal/Simulacion-I/blob/main/Cuadrado_medio.ipynb\" target=\"_parent\"><img src=\"https://colab.research.google.com/assets/colab-badge.svg\" alt=\"Open In Colab\"/></a>"
      ]
    },
    {
      "cell_type": "code",
      "execution_count": 7,
      "metadata": {
        "colab": {
          "base_uri": "https://localhost:8080/"
        },
        "id": "kgd7mBup5QhI",
        "outputId": "2c485db3-7c0f-44b3-e704-26cbf9052530"
      },
      "outputs": [
        {
          "output_type": "stream",
          "name": "stdout",
          "text": [
            "Escribe un número de 4 dígitos: 7845\n",
            "El numero es: 7845\n",
            "Se elevará el número al cuadrado\n",
            "Numero elevado al cuadrado: 61544025\n",
            "Digitos del cuadrado medio: ['5', '4', '4', '0']\n",
            "Digitos del cuadrado medio seguidos: 5440\n"
          ]
        }
      ],
      "source": [
        "num= (int(input(\"Escribe un número de 4 dígitos: \")))\n",
        "print(\"El numero es:\",num)\n",
        "print(\"Se elevará el número al cuadrado\")\n",
        "num_c= num*num\n",
        "print(\"Numero elevado al cuadrado:\", num_c)\n",
        "\n",
        "cadena = str(num_c)\n",
        "cantidad = len(cadena)\n",
        "cero = str(0)\n",
        "if cantidad <8:\n",
        "  print(\"El número tiene 7 dígitos, por lo que se le agregará un '0' al principio\")\n",
        "  numl = cero + cadena\n",
        "  print(\"Este es el nuevo numero : \", numl)\n",
        "  numh = [numl[i] for i in range(2,6)]\n",
        "  print(\"Dígitos del cuadrado medio:\", numh)\n",
        "  print(\"Digitos del cuadrado medio seguidos:\", ''.join(numh))\n",
        "else:\n",
        "  print(\"Digitos del cuadrado medio:\", [cadena[i] for i in range(2, 6)])\n",
        "  print(\"Digitos del cuadrado medio seguidos:\", ''.join([cadena[i] for i in range(2,6)]))"
      ]
    }
  ]
}