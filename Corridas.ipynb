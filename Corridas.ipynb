{
  "nbformat": 4,
  "nbformat_minor": 0,
  "metadata": {
    "colab": {
      "provenance": [],
      "authorship_tag": "ABX9TyN02YKMchGGs4Si1oxWHne8",
      "include_colab_link": true
    },
    "kernelspec": {
      "name": "python3",
      "display_name": "Python 3"
    },
    "language_info": {
      "name": "python"
    }
  },
  "cells": [
    {
      "cell_type": "markdown",
      "metadata": {
        "id": "view-in-github",
        "colab_type": "text"
      },
      "source": [
        "<a href=\"https://colab.research.google.com/github/CristinaLeal/Simulacion-I/blob/main/Corridas.ipynb\" target=\"_parent\"><img src=\"https://colab.research.google.com/assets/colab-badge.svg\" alt=\"Open In Colab\"/></a>"
      ]
    },
    {
      "cell_type": "code",
      "execution_count": 2,
      "metadata": {
        "colab": {
          "base_uri": "https://localhost:8080/"
        },
        "id": "VO5qHsGtZmYi",
        "outputId": "e89a7816-187c-402c-9980-42b1806471f3"
      },
      "outputs": [
        {
          "output_type": "stream",
          "name": "stdout",
          "text": [
            "Prueba de Corridas\n",
            "Requirement already satisfied: prettytable in /usr/local/lib/python3.10/dist-packages (3.10.0)\n",
            "Requirement already satisfied: wcwidth in /usr/local/lib/python3.10/dist-packages (from prettytable) (0.2.13)\n",
            "+----+-------+----------+\n",
            "| n  |   Xi  | i rachas |\n",
            "+----+-------+----------+\n",
            "| 0  | 0.048 |   ....   |\n",
            "| 1  | 0.591 |    1     |\n",
            "| 2  | 0.478 |    0     |\n",
            "| 3  | 0.166 |    0     |\n",
            "| 4  | 0.932 |    1     |\n",
            "| 5  | 0.926 |    0     |\n",
            "| 6  | 0.007 |    0     |\n",
            "| 7  | 0.551 |    1     |\n",
            "| 8  | 0.362 |    0     |\n",
            "| 9  | 0.533 |    1     |\n",
            "| 10 | 0.368 |    0     |\n",
            "| 11 | 0.437 |    1     |\n",
            "| 12 | 0.178 |    0     |\n",
            "| 13 | 0.411 |    1     |\n",
            "| 14 | 0.545 |    1     |\n",
            "| 15 | 0.787 |    1     |\n",
            "| 16 | 0.594 |    0     |\n",
            "| 17 | 0.086 |    0     |\n",
            "| 18 | 0.951 |    1     |\n",
            "| 19 | 0.772 |    0     |\n",
            "| 20 | 0.298 |    0     |\n",
            "| 21 | 0.199 |    0     |\n",
            "| 22 | 0.157 |    0     |\n",
            "| 23 | 0.401 |    1     |\n",
            "| 24 | 0.631 |    1     |\n",
            "+----+-------+----------+\n",
            "Ho = Los números de la muestra son independientes\n",
            "Nivel de aceptación: 95\n",
            "Rachas observadas:  15\n",
            "Media 16.3333\n",
            "Varianza 4.1222\n",
            "Valor de Zo -0.6567\n"
          ]
        }
      ],
      "source": [
        "L=[0.048, 0.591, 0.478, 0.166, 0.932, 0.926, 0.007, 0.551, 0.362, 0.533,\n",
        "   0.368, 0.437, 0.178, 0.411, 0.545, 0.787, 0.594, 0.086, 0.951, 0.772,\n",
        "   0.298, 0.199, 0.157, 0.401, 0.631]\n",
        "print(\"Prueba de Corridas\")\n",
        "k=len(L)\n",
        "S=[]\n",
        "a=1\n",
        "b=0\n",
        "while a<k and b<=(k-1):\n",
        "  u=L[a]-L[b]\n",
        "  if u<=0:\n",
        "    S.append(0)\n",
        "    a+=1\n",
        "    b+=1\n",
        "  else:\n",
        "    S.append(1)\n",
        "    a+=1\n",
        "    b+=1\n",
        "c=0\n",
        "if S[0]==1:\n",
        "  c+=1\n",
        "else:\n",
        "  c+=1\n",
        "for n in S:\n",
        "  if S[n+1] != S[n]:\n",
        "    c+=1\n",
        "  else:\n",
        "    c+=0\n",
        "c+=1\n",
        "j=[\"....\"]\n",
        "S=j+S\n",
        "!pip install prettytable\n",
        "from prettytable import PrettyTable\n",
        "myTable = PrettyTable([\"n\",\"Xi\",\"i rachas\"])\n",
        "\n",
        "for x in range(k):\n",
        "  myTable.add_row([x,L[x],S[x]])\n",
        "print(myTable)\n",
        "print(\"Ho = Los números de la muestra son independientes\")\n",
        "media=((2*k)-1)/3\n",
        "varianza=((16*k)-29)/90\n",
        "from math import sqrt\n",
        "Z=(c-media)/sqrt(varianza)\n",
        "m=float(input(\"Nivel de aceptación: \"))\n",
        "print(\"Rachas observadas: \", c)\n",
        "print(\"Media\", round(media,4))\n",
        "print(\"Varianza\", round(varianza,4))\n",
        "print(\"Valor de Zo\",round(Z,4))"
      ]
    }
  ]
}